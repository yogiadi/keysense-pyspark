{
  "cells": [
    {
      "cell_type": "markdown",
      "metadata": {},
      "source": [
        "# KeySense Colab Smoke Test (v0.4.2)\n",
        "\n",
        "This notebook installs KeySense from GitHub, pulls a sample dataset, and runs a quick scan + optional JSON/GE export.\n",
        "\n",
        "**What this does:**\n",
        "- Installs `keysense` from your GitHub repo\n",
        "- Downloads a small NYC Taxi parquet (Jan 2019)\n",
        "- Runs KeySense via the Python API (fast sample) and via CLI (optional)\n",
        "- Shows `grain_score` and `near_key_gap`\n"
      ]
    },
    {
      "cell_type": "code",
      "execution_count": null,
      "metadata": {
        "id": "install"
      },
      "outputs": [],
      "source": [
        "# Install keysense directly from GitHub (v0.4.2)\n",
        "!pip install --quiet \"git+https://github.com/yogiadi/keysense-pyspark.git\""
      ]
    },
    {
      "cell_type": "code",
      "execution_count": null,
      "metadata": {
        "id": "download_data"
      },
      "outputs": [],
      "source": [
        "# Download sample NYC Taxi parquet (Jan 2019)\n",
        "import os, urllib.request\n",
        "URL = \"https://d37ci6vzurychx.cloudfront.net/trip-data/yellow_tripdata_2019-01.parquet\"\n",
        "FN = \"yellow_tripdata_2019-01.parquet\"\n",
        "if not os.path.exists(FN):\n",
        "    print(f\"Downloading {URL}...\")\n",
        "    urllib.request.urlretrieve(URL, FN)\n",
        "    print(\"\u2713 Downloaded\", FN)\n",
        "else:\n",
        "    print(\"\u2713 Already present:\", FN)\n"
      ]
    },
    {
      "cell_type": "code",
      "execution_count": null,
      "metadata": {
        "id": "python_api"
      },
      "outputs": [],
      "source": [
        "# Quick run via the Python API (fast sample)\n",
        "from pyspark.sql import SparkSession\n",
        "from keysense import KeySense\n",
        "\n",
        "spark = SparkSession.builder.getOrCreate()\n",
        "spark.conf.set(\"spark.sql.shuffle.partitions\", \"64\")\n",
        "\n",
        "df = spark.read.parquet(\"yellow_tripdata_2019-01.parquet\")\n",
        "wanted = [\n",
        "    \"tpep_pickup_datetime\",\"tpep_dropoff_datetime\",\n",
        "    \"PULocationID\",\"DOLocationID\",\"fare_amount\",\"trip_distance\"\n",
        "]\n",
        "cols = [c for c in wanted if c in df.columns]\n",
        "df_small = df.select(*cols).sample(False, 0.05, seed=42).cache()\n",
        "df_small.count()  # materialize cache\n",
        "\n",
        "ks = KeySense(\n",
        "    df_small,\n",
        "    time_col=\"tpep_pickup_datetime\",\n",
        "    max_combo_len=3,\n",
        "    sample_fraction=None,\n",
        "    approx_rsd=0.05,\n",
        "    min_col_cardinality=50,\n",
        "    max_null_fraction=0.6,\n",
        "    time_grain=\"day\",\n",
        ")\n",
        "out = ks.evaluate(topk=10)\n",
        "out.select(\"combo\",\"combo_len\",\"grain_score\",\"near_key_gap\",\"uniqueness_ratio\").show(10, truncate=False)\n"
      ]
    },
    {
      "cell_type": "code",
      "execution_count": null,
      "metadata": {
        "id": "cli_optional"
      },
      "outputs": [],
      "source": [
        "# Optional: run CLI to emit JSON + GE suite (uncomment to run)\n",
        "# This takes a couple of minutes on first run due to Spark startup.\n",
        "\n",
        "# !python -m keysense.profiler \\\n",
        "#   --input yellow_tripdata_2019-01.parquet --format parquet \\\n",
        "#   --time-col tpep_pickup_datetime --time-grain day \\\n",
        "#   --max-combo-len 3 --sample 0.05 --approx-rsd 0.05 \\\n",
        "#   --min-col-card 50 --max-null-frac 0.6 \\\n",
        "#   --weights 0.6,0.25,0.15 --topk 10 \\\n",
        "#   --output ./nyc_cli_out \\\n",
        "#   --emit-json nyc_cli_out.json \\\n",
        "#   --emit-ge nyc_cli_ge\n"
      ]
    },
    {
      "cell_type": "markdown",
      "metadata": {},
      "source": [
        "### Notes\n",
        "- `near_key_gap` close to **0.0** indicates a true key.\n",
        "- For quick runs, reduce sample size or `max_combo_len`.\n",
        "- Use the CLI cell to create a JSON export and a Great Expectations suite.\n"
      ]
    }
  ],
  "metadata": {
    "colab": {
      "name": "KeySense_Colab_SmokeTest.ipynb"
    },
    "kernelspec": {
      "display_name": "Python 3",
      "language": "python",
      "name": "python3"
    },
    "language_info": {
      "name": "python",
      "version": "3.x"
    }
  },
  "nbformat": 4,
  "nbformat_minor": 5
}